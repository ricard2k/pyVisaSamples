{
 "metadata": {
  "language_info": {
   "codemirror_mode": {
    "name": "ipython",
    "version": 3
   },
   "file_extension": ".py",
   "mimetype": "text/x-python",
   "name": "python",
   "nbconvert_exporter": "python",
   "pygments_lexer": "ipython3",
   "version": "3.7.3-final"
  },
  "orig_nbformat": 2,
  "kernelspec": {
   "name": "python3",
   "display_name": "Python 3.7.3 32-bit ('venv')",
   "metadata": {
    "interpreter": {
     "hash": "f61b7572c9f4a55c906bd376357c0e059e06d08cb5161bd7e3c83a7d3daf6310"
    }
   }
  }
 },
 "nbformat": 4,
 "nbformat_minor": 2,
 "cells": [
  {
   "source": [
    "# PyVisa sample\n",
    "\n",
    "This try to install the required libraries in your Jupyter server. Run once."
   ],
   "cell_type": "markdown",
   "metadata": {}
  },
  {
   "cell_type": "code",
   "execution_count": null,
   "metadata": {},
   "outputs": [],
   "source": [
    "import sys\n",
    "!{sys.executable} -m pip install pyserial\n",
    "!{sys.executable} -m pip install pyvisa-py\n",
    "!{sys.executable} -m pip install pyvisa"
   ]
  },
  {
   "source": [
    "Import the library and select the python visa backend"
   ],
   "cell_type": "markdown",
   "metadata": {}
  },
  {
   "cell_type": "code",
   "execution_count": null,
   "metadata": {},
   "outputs": [],
   "source": [
    "import pyvisa\n",
    "rm = pyvisa.ResourceManager('@py')\n"
   ]
  },
  {
   "source": [
    "The code below list all the (possible) connected instruments"
   ],
   "cell_type": "markdown",
   "metadata": {}
  },
  {
   "cell_type": "code",
   "execution_count": 43,
   "metadata": {},
   "outputs": [
    {
     "output_type": "execute_result",
     "data": {
      "text/plain": [
       "('ASRL/dev/ttyUSB1::INSTR',\n",
       " 'ASRL/dev/ttyUSB0::INSTR',\n",
       " 'ASRL/dev/ttyAMA0::INSTR')"
      ]
     },
     "metadata": {},
     "execution_count": 43
    }
   ],
   "source": [
    "rm.list_resources()"
   ]
  },
  {
   "cell_type": "code",
   "execution_count": 45,
   "metadata": {},
   "outputs": [
    {
     "output_type": "stream",
     "name": "stdout",
     "text": [
      "Keithley instruments, 2231A-30-3, 802196102757210049, 1.04-1.04\n\n"
     ]
    }
   ],
   "source": [
    "keithley = rm.open_resource('ASRL/dev/ttyUSB0')\n",
    "print(keithley.query(\"*IDN?\"))\n",
    "#print(keithley.query(\"READ?\"))"
   ]
  },
  {
   "cell_type": "code",
   "execution_count": 44,
   "metadata": {},
   "outputs": [
    {
     "output_type": "stream",
     "name": "stdout",
     "text": [
      "Keysight Technologies,U1242C,MY59190061,V1.22\n\nvoltage:  +3.29960000E+00\n\n"
     ]
    }
   ],
   "source": [
    "keysight = rm.open_resource('ASRL/dev/ttyUSB1')\n",
    "print(keysight.query(\"*IDN?\"))\n",
    "voltage = keysight.query(\"READ?\")\n",
    "print(\"voltage: \", voltage)"
   ]
  },
  {
   "cell_type": "code",
   "execution_count": null,
   "metadata": {},
   "outputs": [],
   "source": []
  }
 ]
}